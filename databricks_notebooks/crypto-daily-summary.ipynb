{
 "cells": [
  {
   "cell_type": "code",
   "execution_count": 0,
   "metadata": {
    "application/vnd.databricks.v1+cell": {
     "cellMetadata": {
      "byteLimit": 2048000,
      "rowLimit": 10000
     },
     "inputWidgets": {},
     "nuid": "8221ef3c-e21b-44e9-94d6-0c9a219e0a43",
     "showTitle": false,
     "tableResultSettingsMap": {},
     "title": ""
    }
   },
   "outputs": [],
   "source": [
    "from pyspark.sql import SparkSession\n",
    "from pyspark.sql.functions import col, avg, min, max, first, last, lit, row_number\n",
    "from pyspark.sql.window import Window\n",
    "import datetime\n",
    "\n",
    "# Initialize Spark\n",
    "spark = SparkSession.builder.appName(\"CryptoDailySummary\").getOrCreate()\n",
    "\n",
    "# Secret-based config\n",
    "storage_account_name = dbutils.secrets.get(scope=\"cryptoSecret\", key=\"azure-storage-account-name\")\n",
    "storage_account_key = dbutils.secrets.get(scope=\"cryptoSecret\", key=\"azure-storage-account-key\")\n",
    "container_name = \"crypto-data\"\n",
    "\n",
    "spark.conf.set(f\"fs.azure.account.key.{storage_account_name}.blob.core.windows.net\", storage_account_key)\n",
    "\n",
    "# Paths\n",
    "base_path = f\"wasbs://{container_name}@{storage_account_name}.blob.core.windows.net\"\n",
    "processed_path = f\"{base_path}/processed\"\n",
    "daily_summary_path = f\"{base_path}/output/daily_summary\"\n",
    "\n",
    "# Today's date\n",
    "today_str = datetime.datetime.utcnow().strftime(\"%Y-%m-%d\")\n",
    "today_parquet = f\"{processed_path}/{today_str}.parquet\"\n",
    "\n",
    "# Read processed file\n",
    "df_today = spark.read.parquet(today_parquet)\n",
    "\n",
    "# Melt from wide to long format (bitcoin, ethereum, dogecoin → coin, price)\n",
    "coins = [\"bitcoin\", \"ethereum\", \"dogecoin\"]\n",
    "df_melted = None\n",
    "for coin in coins:\n",
    "    df_coin = df_today.select(\n",
    "        col(\"time\").alias(\"timestamp\"),\n",
    "        col(\"date\"),\n",
    "        lit(coin).alias(\"coin\"),\n",
    "        col(coin).alias(\"price\")\n",
    "    )\n",
    "    df_melted = df_coin if df_melted is None else df_melted.union(df_coin)\n",
    "\n",
    "# Filter out null prices\n",
    "df_clean = df_melted.filter(col(\"price\").isNotNull())\n",
    "\n",
    "# Window for open/close\n",
    "w = Window.partitionBy(\"coin\").orderBy(\"timestamp\")\n",
    "\n",
    "# Add open/close price\n",
    "df_with_open_close = (\n",
    "    df_clean.withColumn(\"open_price\", first(\"price\").over(w))\n",
    "            .withColumn(\"close_price\", last(\"price\").over(w))\n",
    ")\n",
    "\n",
    "# Aggregate daily summary\n",
    "df_daily = (\n",
    "    df_with_open_close.groupBy(\"coin\", \"date\")\n",
    "        .agg(\n",
    "            avg(\"price\").alias(\"avg_price\"),\n",
    "            first(\"open_price\").alias(\"opening_price\"),\n",
    "            last(\"close_price\").alias(\"closing_price\"),\n",
    "            min(\"price\").alias(\"min_price\"),\n",
    "            max(\"price\").alias(\"max_price\")\n",
    "        )\n",
    ")\n",
    "\n",
    "# Add s.no and reorder columns\n",
    "serial_window = Window.partitionBy(\"date\").orderBy(\"coin\")\n",
    "df_final = (\n",
    "    df_daily.withColumn(\"s_no\", row_number().over(serial_window))\n",
    "            .select(\"s_no\", \"date\", \"coin\", \"opening_price\", \"closing_price\", \"avg_price\", \"min_price\", \"max_price\")\n",
    ")\n",
    "\n",
    "# Show result\n",
    "#df_final.show(truncate=False)\n",
    "\n",
    "# Save Daily summary \n",
    "df_final.write.mode(\"overwrite\").parquet(f\"{daily_summary_path}/{today_str}_summary.parquet\")\n"
   ]
  },
  {
   "cell_type": "code",
   "execution_count": 0,
   "metadata": {
    "application/vnd.databricks.v1+cell": {
     "cellMetadata": {},
     "inputWidgets": {},
     "nuid": "a4c6b0b8-7949-400f-aa17-46097bb0194f",
     "showTitle": false,
     "tableResultSettingsMap": {},
     "title": ""
    }
   },
   "outputs": [],
   "source": []
  }
 ],
 "metadata": {
  "application/vnd.databricks.v1+notebook": {
   "computePreferences": null,
   "dashboards": [],
   "environmentMetadata": {
    "base_environment": "",
    "environment_version": "2"
   },
   "inputWidgetPreferences": null,
   "language": "python",
   "notebookMetadata": {
    "pythonIndentUnit": 4
   },
   "notebookName": "crypto-daily-summary",
   "widgets": {}
  },
  "language_info": {
   "name": "python"
  }
 },
 "nbformat": 4,
 "nbformat_minor": 0
}